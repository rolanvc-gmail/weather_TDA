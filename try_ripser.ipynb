{
 "cells": [
  {
   "cell_type": "code",
   "execution_count": 1,
   "metadata": {
    "collapsed": true
   },
   "outputs": [],
   "source": [
    "from ripser import ripser\n",
    "from persim import plot_diagrams\n",
    "import matplotlib.pyplot as plt\n",
    "import numpy as np\n",
    "from numpy import ndarray\n",
    "import os\n",
    "import glob\n",
    "import warnings\n",
    "warnings.filterwarnings('ignore')\n",
    "from typing import List"
   ]
  },
  {
   "cell_type": "code",
   "execution_count": null,
   "outputs": [],
   "source": [
    "def get_months()->List[int]:\n",
    "    \"\"\"\n",
    "    Based on npy-data folder,\n",
    "    :return:\n",
    "    \"\"\""
   ],
   "metadata": {
    "collapsed": false
   }
  },
  {
   "cell_type": "code",
   "execution_count": 2,
   "outputs": [],
   "source": [
    "def get_days(month_int: int) -> List[int]:\n",
    "    \"\"\"\n",
    "    Based on the npy-data folder, this function returns all the days that the month has data for.\n",
    "    The days are returned as  list of integers.\n",
    "    :param month_int: the month in interest\n",
    "    :return: a list of integer representing the calendar days the month has data for.\n",
    "    \"\"\"\n",
    "    result = []\n",
    "    data_folder = f\"/home/rolan/data1/Weather-Datasets/npy-data/{month_int:02}/*\"\n",
    "    files = glob.glob(data_folder)\n",
    "    for file in files:\n",
    "        terms = file.split('/')\n",
    "        day = terms[-1]\n",
    "        day_int = int(day)\n",
    "        result.append(day_int)\n",
    "    return sorted(result)\n",
    "\n",
    "\n"
   ],
   "metadata": {
    "collapsed": false
   }
  },
  {
   "cell_type": "code",
   "execution_count": 3,
   "outputs": [],
   "source": [
    "def get_flat_data(month_int: int, day_int: int, size :int = 0) -> ndarray:\n",
    "    \"\"\"\n",
    "    This gets radar data from the data_folder specified below, and stacks these into an ndarray, then returns the result\n",
    "    :param month_int: the month to get the data from\n",
    "    :param day_int: the day of the month to get the data from\n",
    "    :param size: how many files of data to get. Each file is data taken from 10 minute intervals.\n",
    "    :return: an ndarray of the list of data.\n",
    "    \"\"\"\n",
    "    result = []\n",
    "    data_folder = f\"/home/rolan/data1/Weather-Datasets/npy-data/{month_int:02}/{day_int:02}\"\n",
    "    files = glob.glob(os.path.join(data_folder, \"*\"))\n",
    "    if size == 0:\n",
    "        size = len(files)\n",
    "    for count, file in enumerate(files):\n",
    "        if count >= size:\n",
    "            break  # since we keep crashing when at 111 days, let's start with a small number first.\n",
    "        file_data = np.load(file)\n",
    "        flat_data = file_data.flatten()\n",
    "        result.append(flat_data)\n",
    "    return np.asarray(result)"
   ],
   "metadata": {
    "collapsed": false
   }
  },
  {
   "cell_type": "code",
   "execution_count": 4,
   "outputs": [],
   "source": [
    "def plot_and_save_ripser_data(ripser_data:ndarray, filename:str):\n",
    "    dgms = ripser(ripser_data)['dgms']\n",
    "    fig=plt.figure()\n",
    "    plot_diagrams(dgms, show=False)\n",
    "    plt.savefig(filename)\n",
    "    plt.close(fig)"
   ],
   "metadata": {
    "collapsed": false
   }
  },
  {
   "cell_type": "code",
   "execution_count": 6,
   "outputs": [],
   "source": [
    "month=1\n",
    "days = get_days(month_int = month)\n",
    "for day in days:\n",
    "    data = get_flat_data(month_int=month, day_int=day )\n",
    "    file_name = os.path.join(\"outputs\", f\"subic_p-{month}-{day}.png\")\n",
    "    plot_and_save_ripser_data(ripser_data=data, filename=file_name)"
   ],
   "metadata": {
    "collapsed": false
   }
  },
  {
   "cell_type": "code",
   "execution_count": null,
   "outputs": [],
   "source": [],
   "metadata": {
    "collapsed": false
   }
  }
 ],
 "metadata": {
  "kernelspec": {
   "name": "weather",
   "language": "python",
   "display_name": "weather"
  },
  "language_info": {
   "codemirror_mode": {
    "name": "ipython",
    "version": 2
   },
   "file_extension": ".py",
   "mimetype": "text/x-python",
   "name": "python",
   "nbconvert_exporter": "python",
   "pygments_lexer": "ipython2",
   "version": "2.7.6"
  }
 },
 "nbformat": 4,
 "nbformat_minor": 0
}
